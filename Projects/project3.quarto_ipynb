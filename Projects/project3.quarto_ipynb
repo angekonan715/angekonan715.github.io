{
  "cells": [
    {
      "cell_type": "markdown",
      "metadata": {},
      "source": [
        "---\n",
        "title: \"Client Report - Finding Relationships in Baseball\"\n",
        "subtitle: \"Course DS 250\"\n",
        "author: \"Ange K. Kouadio\"\n",
        "format:\n",
        "  html:\n",
        "    self-contained: true\n",
        "    page-layout: full\n",
        "    title-block-banner: true\n",
        "    toc: true\n",
        "    toc-depth: 3\n",
        "    toc-location: body\n",
        "    number-sections: false\n",
        "    html-math-method: katex\n",
        "    code-fold: true\n",
        "    code-summary: \"Show the code\"\n",
        "    code-overflow: wrap\n",
        "    code-copy: hover\n",
        "    code-tools:\n",
        "        source: false\n",
        "        toggle: true\n",
        "        caption: See code\n",
        "execute:\n",
        "  warning: false\n",
        "\n",
        "---\n",
        "\n",
        "\n",
        "\n",
        "\n",
        "_THIS `.qmd` IS INSTRUCTIONAL AND SHOULD `NOT` BE USED TO WRITE YOUR REPORTS (EXCEPTION - PROJECT 0). THERE IS ANOTHER TEMPLATE FILE FOR THAT. YOU WILL NEED TO `PREVIEW` THE REPORT TO PRODUCE A `.html` FILE. YOU WILL SUBMIT THE `.html` FILE ON CANVAS._\n"
      ],
      "id": "df5652c0"
    },
    {
      "cell_type": "code",
      "metadata": {},
      "source": [
        "#| label: libraries\n",
        "#| include: false\n",
        "import pandas as pd\n",
        "import numpy as np\n",
        "from lets_plot import *\n",
        "import sqlite3\n",
        "LetsPlot.setup_html(isolated_frame=True, no_js=True)"
      ],
      "id": "libraries",
      "execution_count": null,
      "outputs": []
    },
    {
      "cell_type": "markdown",
      "metadata": {},
      "source": [
        "## Elevator pitch\n",
        "_Have you wondered what is the better team between Boston and Texas from 2000 to 2015? I noticed that Boston has won more than half their games over the last decade. Although they are are in decline since 2020, they are still better than Texas teams by game won_\n"
      ],
      "id": "8bc41bb6"
    },
    {
      "cell_type": "code",
      "metadata": {},
      "source": [
        "#| label: project-data\n",
        "#| code-summary: Read and format project data\n",
        "\n",
        "# Learn morea about Code Cells: https://quarto.org/docs/reference/cells/cells-jupyter.html\n",
        "sqlite_file = 'lahmansbaseballdb.sqlite'\n",
        "con = sqlite3.connect(sqlite_file)"
      ],
      "id": "project-data",
      "execution_count": null,
      "outputs": []
    },
    {
      "cell_type": "markdown",
      "metadata": {},
      "source": [
        "__Highlight the Questions and Tasks__\n",
        "\n",
        "## Question|Task 1\n",
        "\n",
        "__Write an SQL query to create a new dataframe about baseball players who attended BYU-Idaho. The new table should contain five columns: playerID, schoolID, salary, and the yearID/teamID associated with each salary. Order the table by salary (highest to lowest) and print out the table in your report.__\n",
        "\n",
        "_Add details here to answer the question but `NOT` like an assignment Q&A. You need to `write your answers as a consulting solution report`. A Client needs to understand the answer, but also needs to understand the decisions that went into the answer (when applicable)._\n"
      ],
      "id": "e915d733"
    },
    {
      "cell_type": "code",
      "metadata": {},
      "source": [
        "#| label: Q1\n",
        "#| code-summary: Read and format data\n",
        "# Include and execute your code here\n",
        "p = '''\n",
        "    select distinct  clpl.playerID,\n",
        "                     clpl.schoolID,\n",
        "                     sal.salary,\n",
        "                     sal.yearID || '/' || sal.teamID as 'yearID/teamID'\n",
        "    from collegeplaying clpl\n",
        "    left join salaries sal\n",
        "    on clpl.playerID = sal.playerID\n",
        "    where clpl.schoolID = 'idbyuid'\n",
        "    order by sal.salary desc\n",
        "\n",
        "\n",
        "  '''\n",
        "byuiBaseballPlayers = pd.read_sql_query(p, con)\n",
        "byuiBaseballPlayers\n"
      ],
      "id": "Q1",
      "execution_count": null,
      "outputs": []
    },
    {
      "cell_type": "markdown",
      "metadata": {},
      "source": [
        "## Question|Task 2\n",
        "\n",
        "__This three-part question requires you to calculate batting average (number of hits divided by the number of at-bats)__\n",
        "\n",
        "___ a.Write an SQL query that provides playerID, yearID, and batting average for players with at least 1 at bat that year. Sort the table from highest batting average to lowest, and then by playerid alphabetically. Show the top 5 results in your report. ___\n",
        "\n",
        "- _include figures in chunks and discuss your findings in the figure._\n"
      ],
      "id": "102ab91b"
    },
    {
      "cell_type": "code",
      "metadata": {},
      "source": [
        "#| label: Q1-chart\n",
        "#| code-summary: plot example\n",
        "#| fig-cap: My useless chart\n",
        "#| fig-align: center\n",
        "# Include and execute your code here\n",
        "q2 = '''\n",
        "      select bat.playerID,\n",
        "             bat.yearID,\n",
        "             (bat.H*1.0)/(bat.AB) as 'batting average'\n",
        "      from batting bat\n",
        "      where bat.AB >= 1.0\n",
        "      order by (bat.H*1.0)/(bat.AB) desc,\n",
        "                bat.playerID asc\n",
        "      limit 5\n",
        "     '''\n",
        "battingAverage = pd.read_sql_query(q2, con)\n",
        "battingAverage"
      ],
      "id": "Q1-chart",
      "execution_count": null,
      "outputs": []
    },
    {
      "cell_type": "markdown",
      "metadata": {},
      "source": [
        "___ b. Use the same query as above, but only include players with at least 10 at bats that year. Print the top 5 results ___\n"
      ],
      "id": "d79bf6ac"
    },
    {
      "cell_type": "code",
      "metadata": {},
      "source": [
        "#| label: Q2-chart\n",
        "#| code-summary: plot example\n",
        "#| fig-cap: My useless chart\n",
        "#| fig-align: center\n",
        "# Include and execute your code here\n",
        "q21 = '''\n",
        "      select bat.playerID,\n",
        "             bat.yearID,\n",
        "             (bat.H*1.0)/bat.AB as 'batting average'\n",
        "      from batting bat\n",
        "      where bat.AB >= 10\n",
        "      order by (bat.H*1.0)/bat.AB desc,\n",
        "                bat.playerID asc\n",
        "      limit 5\n",
        "     '''\n",
        "battingAveragebat10 = pd.read_sql_query(q21, con)\n",
        "battingAveragebat10"
      ],
      "id": "Q2-chart",
      "execution_count": null,
      "outputs": []
    },
    {
      "cell_type": "markdown",
      "metadata": {},
      "source": [
        "___ c. Now calculate the batting average for players over their entire careers (all years combined). Only include players with at least 100 at bats, and print the top 5 results. ___\n"
      ],
      "id": "967fec40"
    },
    {
      "cell_type": "code",
      "metadata": {},
      "source": [
        "#| label: Q3-chart\n",
        "#| code-summary: plot example\n",
        "#| fig-cap: My useless chart\n",
        "#| fig-align: center\n",
        "# Include and execute your code here\n",
        "q3 = '''\n",
        "      select bat.playerID,\n",
        "             round((sum(bat.H)*1.0)/sum(bat.AB), 3) as batting_average\n",
        "      from batting bat\n",
        "      group by bat.playerID\n",
        "      having sum(bat.AB) >= 100\n",
        "      order by batting_average desc,\n",
        "               bat.playerID asc\n",
        "      limit 5\n",
        "     '''\n",
        "battingAveragebat100 = pd.read_sql_query(q3, con)\n",
        "battingAveragebat100"
      ],
      "id": "Q3-chart",
      "execution_count": null,
      "outputs": []
    },
    {
      "cell_type": "markdown",
      "metadata": {},
      "source": [
        "## Question|Task 3\n",
        "\n",
        "__Pick any two baseball teams and compare them using a metric of your choice (average salary, home runs, number of wins, etc). Write an SQL query to get the data you need, then make a graph using Lets-Plot to visualize the comparison. What do you learn?__\n",
        "\n",
        "__Boston leads California by the wins per game. The Boston team won more than half of their games from 2000 to 2010. The Boston lost more game between 2010 and 2012. There might have something happenning that affected the result of the team__\n",
        "\n",
        "- _Below is the table comparing Boston and California_\n"
      ],
      "id": "3514a3fc"
    },
    {
      "cell_type": "code",
      "metadata": {},
      "source": [
        "#| label: Q3-table\n",
        "#| code-summary: table example\n",
        "#| tbl-cap: table example\n",
        "#| tbl-cap-location: top\n",
        "# Include and execute your code here\n",
        "q4 = '''\n",
        "      select tea.teamID,\n",
        "             tea.yearID,\n",
        "             round(avg(tea.HR), 3) 'avg_home run',\n",
        "             round(avg(tea.W*1.0/tea.G*1.0),2) 'avg_win_per_game'\n",
        "      from teams tea\n",
        "      where tea.teamID in ('BOS', 'TEX') and tea.yearID > 2000\n",
        "      group by tea.teamID,\n",
        "               tea.yearID\n",
        "      order by tea.yearID,\n",
        "               tea.teamID\n",
        "\n",
        "    '''\n",
        "teamwithHighestSalariesHR = pd.read_sql_query(q4, con)\n",
        "teamwithHighestSalariesHR\n"
      ],
      "id": "Q3-table",
      "execution_count": null,
      "outputs": []
    },
    {
      "cell_type": "code",
      "metadata": {},
      "source": [
        "#| label: Q3-chart01\n",
        "#| code-summary: table example\n",
        "#| tbl-cap: table example\n",
        "#| tbl-cap-location: top\n",
        "# Include and execute your code here\n",
        "chart01 = ggplot(data=teamwithHighestSalariesHR, mapping=aes(x=\"yearID\", y=\"avg_win_per_game\", color = 'teamID')) + geom_line() + labs(\n",
        "    title=\"Average Win per Game by Team\", x=\"Team\", subtitle=\"Overall, Boston won more matches than Texas\", y=\"Average Win per Game\")\n",
        "chart01"
      ],
      "id": "Q3-chart01",
      "execution_count": null,
      "outputs": []
    }
  ],
  "metadata": {
    "kernelspec": {
      "name": "python3",
      "language": "python",
      "display_name": "Python 3 (ipykernel)",
      "path": "C:\\Users\\angek\\AppData\\Roaming\\Python\\share\\jupyter\\kernels\\python3"
    }
  },
  "nbformat": 4,
  "nbformat_minor": 5
}